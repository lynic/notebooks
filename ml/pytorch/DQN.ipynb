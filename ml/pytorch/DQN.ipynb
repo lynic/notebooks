{
 "cells": [
  {
   "cell_type": "code",
   "execution_count": null,
   "metadata": {
    "collapsed": true
   },
   "outputs": [],
   "source": [
    "import gym\n",
    "\n",
    "import torch\n",
    "from torch import nn, optim\n",
    "from torch.autograd import Variable\n",
    "\n",
    "from collections import deque\n",
    "import numpy as np\n",
    "import random\n",
    "from operator import itemgetter\n"
   ]
  },
  {
   "cell_type": "code",
   "execution_count": null,
   "metadata": {},
   "outputs": [],
   "source": [
    "env = gym.make('CartPole-v0')"
   ]
  },
  {
   "cell_type": "code",
   "execution_count": null,
   "metadata": {
    "collapsed": true
   },
   "outputs": [],
   "source": [
    "BATCH_SIZE = 64\n",
    "EPOCHES = 100\n",
    "EPSILON = 0.9\n",
    "GAMMA = 0.9\n",
    "MEMORY_CAPACITY = 2000\n",
    "TARGET_REPLACE_ITER = 100\n",
    "\n",
    "N_STATES = env.observation_space.shape[0]\n",
    "N_ACTIONS = env.action_space.n"
   ]
  },
  {
   "cell_type": "code",
   "execution_count": null,
   "metadata": {
    "collapsed": true
   },
   "outputs": [],
   "source": [
    "class Net(nn.Module):\n",
    "    def __init__(self):\n",
    "        super(Net, self).__init__()\n",
    "        self.fc1 = nn.Sequential(\n",
    "            nn.Linear(N_STATES, 512),\n",
    "            nn.ReLU(),\n",
    "            nn.Linear(512, 256),\n",
    "            nn.ReLU(),\n",
    "            nn.Linear(256, N_ACTIONS),\n",
    "        )\n",
    "    def forward(self, x):\n",
    "        out = self.fc1(x)\n",
    "        return out\n"
   ]
  },
  {
   "cell_type": "code",
   "execution_count": null,
   "metadata": {
    "collapsed": true
   },
   "outputs": [],
   "source": [
    "class DQN(object):\n",
    "    def __init__(self):\n",
    "        self.eval_net = Net()\n",
    "        self.target_net = Net()\n",
    "        if torch.cuda.is_available():\n",
    "            self.eval_net = self.eval_net.cuda()\n",
    "            self.target_net = self.target_net.cuda()\n",
    "        self.memory = deque(maxlen=MEMORY_CAPACITY)\n",
    "        self.criterion = nn.MSELoss()\n",
    "        self.optimizer = optim.Adam(self.eval_net.parameters(), lr=0.01)\n",
    "    def choose_action(self, state):\n",
    "        x = Variable(torch.FloatTensor(state).unsqueeze(0), volatile=True)\n",
    "        if torch.cuda.is_available():\n",
    "            x = x.cuda()\n",
    "        if np.random.uniform() < EPSILON:\n",
    "            action_values = self.eval_net(x)\n",
    "            action = torch.max(action_values, -1)[1].data[0, 0]\n",
    "        else:\n",
    "            action = np.random.randint(0, N_ACTIONS)\n",
    "        return action\n",
    "    def refresh_target_net(self):\n",
    "        self.target_net.load_state_dict(self.eval_net.state_dict())\n",
    "    def learn(self):\n",
    "        train_data = random.sample(self.memory, BATCH_SIZE)\n",
    "        states = Variable(torch.FloatTensor(list(map(itemgetter(0), train_data))))\n",
    "        actions = Variable(torch.LongTensor(list(map(itemgetter(1), train_data))))\n",
    "        rewards = Variable(torch.FloatTensor(list(map(itemgetter(2), train_data))))\n",
    "        next_states = Variable(torch.FloatTensor(list(map(itemgetter(3), train_data))))\n",
    "        if torch.cuda.is_available():\n",
    "            states = states.cuda()\n",
    "            actions = actions.cuda()\n",
    "            rewards = rewards.cuda()\n",
    "            next_states = next_states.cuda()\n",
    "        q_eval = self.eval_net(states).gather(1, actions.unsqueeze(1))\n",
    "        q_next = self.target_net(next_states).detach()\n",
    "        q_target = rewards + GAMMA * q_next.max(-1)[0]\n",
    "        loss = self.criterion(q_eval, q_target)\n",
    "        self.optimizer.zero_grad()\n",
    "        loss.backward()\n",
    "        self.optimizer.step()\n",
    "    def remember(self, state, action, reward, next_state):\n",
    "        self.memory.append((state, action, reward, next_state))\n",
    "\n",
    "dqn = DQN()"
   ]
  },
  {
   "cell_type": "code",
   "execution_count": null,
   "metadata": {},
   "outputs": [],
   "source": [
    "from IPython.core.debugger import set_trace\n",
    "\n",
    "env = env.unwrapped\n",
    "\n",
    "for epoch in range(EPOCHES):\n",
    "    print('*'*10)\n",
    "    print('Epoch: {}'.format(epoch))\n",
    "    state = env.reset()\n",
    "    done = False\n",
    "    steps = 0\n",
    "    scores = 0.0\n",
    "    while not done:\n",
    "        action = dqn.choose_action(state)\n",
    "        next_state, reward, done, info = env.step(action)\n",
    "        scores += reward\n",
    "\n",
    "        # Revise reward\n",
    "        x, x_dot, theta, theta_dot = next_state\n",
    "        r1 = (env.x_threshold - abs(x)) / env.x_threshold - 0.8\n",
    "        r2 = (env.theta_threshold_radians - abs(theta)) / env.theta_threshold_radians - 0.5\n",
    "        reward = r1 + r2\n",
    "\n",
    "        dqn.remember(state, action, reward, next_state)\n",
    "        if len(dqn.memory) > BATCH_SIZE:\n",
    "            dqn.learn()\n",
    "        if steps%TARGET_REPLACE_ITER == 0:\n",
    "            dqn.refresh_target_net()\n",
    "        state = next_state\n",
    "        steps += 1\n",
    "    print('Steps: {}'.format(steps))\n",
    "    print('Scores: {}'.format(scores))"
   ]
  },
  {
   "cell_type": "code",
   "execution_count": null,
   "metadata": {
    "collapsed": true
   },
   "outputs": [],
   "source": []
  }
 ],
 "metadata": {
  "kernelspec": {
   "display_name": "Python 3",
   "language": "python",
   "name": "python3"
  },
  "language_info": {
   "codemirror_mode": {
    "name": "ipython",
    "version": 3
   },
   "file_extension": ".py",
   "mimetype": "text/x-python",
   "name": "python",
   "nbconvert_exporter": "python",
   "pygments_lexer": "ipython3",
   "version": "3.5.2"
  }
 },
 "nbformat": 4,
 "nbformat_minor": 2
}
