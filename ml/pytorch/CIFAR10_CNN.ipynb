{
 "cells": [
  {
   "cell_type": "code",
   "execution_count": null,
   "metadata": {
    "collapsed": true
   },
   "outputs": [],
   "source": [
    "import torch\n",
    "from torch import nn, optim\n",
    "from torch.autograd import Variable\n",
    "from torch.utils.data import DataLoader\n",
    "from torchvision import datasets\n",
    "from torchvision import transforms\n",
    "\n",
    "import os\n",
    "\n"
   ]
  },
  {
   "cell_type": "code",
   "execution_count": null,
   "metadata": {
    "collapsed": true
   },
   "outputs": [],
   "source": [
    "DATA_PATH = '../datasets/CIFAR10/'\n",
    "EPOCHES = 10\n",
    "BATCH_SIZE = 64"
   ]
  },
  {
   "cell_type": "code",
   "execution_count": null,
   "metadata": {
    "collapsed": true
   },
   "outputs": [],
   "source": [
    "DOWNLOAD = False\n",
    "if not os.path.exists(DATA_PATH):\n",
    "    DOWNLOAD = True\n",
    "\n",
    "trans = transforms.Compose([\n",
    "    transforms.ToTensor(),\n",
    "    transforms.Normalize([0.5, 0.5, 0.5], [0.5, 0.5, 0.5]),\n",
    "])    \n",
    "\n",
    "train_data = datasets.CIFAR10(root=DATA_PATH, train=True, transform=trans, download=DOWNLOAD)\n",
    "test_data = datasets.CIFAR10(root=DATA_PATH, train=False, transform=trans)\n",
    "\n",
    "train_loader = DataLoader(train_data, batch_size=BATCH_SIZE, shuffle=True)\n",
    "test_loader = DataLoader(test_data, batch_size=BATCH_SIZE, shuffle=False)\n",
    "\n",
    "# [3, 32, 32]"
   ]
  },
  {
   "cell_type": "code",
   "execution_count": null,
   "metadata": {
    "collapsed": true
   },
   "outputs": [],
   "source": [
    "class CNN(nn.Module):\n",
    "    def __init__(self):\n",
    "        super(CNN, self).__init__()\n",
    "        self.conv = nn.Sequential(\n",
    "            # input [batch, 3, 32, 32]\n",
    "            nn.Conv2d(3, 6, 5),\n",
    "            # [batch, 6, 28, 28]\n",
    "            nn.ReLU(),\n",
    "            nn.MaxPool2d(2, 2),\n",
    "            # [batch, 6, 14, 14]\n",
    "            nn.Conv2d(6, 16, 5),\n",
    "            # [batch, 16, 10, 10]\n",
    "            nn.ReLU(),\n",
    "            nn.MaxPool2d(2, 2),\n",
    "            # [batch, 16, 5, 5]\n",
    "        )\n",
    "        self.fc = nn.Sequential(\n",
    "            nn.Linear(16*5*5, 512),\n",
    "            nn.ReLU(),\n",
    "            nn.Linear(512, 256),\n",
    "            nn.ReLU(),\n",
    "            nn.Linear(256, 10),\n",
    "        )\n",
    "    def forward(self, x):\n",
    "        out = self.conv(x)\n",
    "        out = out.view(-1, 16*5*5)\n",
    "        out = self.fc(out)\n",
    "        return out\n",
    "\n",
    "model = CNN()\n",
    "if torch.cuda.is_available():\n",
    "    model = model.cuda()"
   ]
  },
  {
   "cell_type": "code",
   "execution_count": null,
   "metadata": {
    "collapsed": true
   },
   "outputs": [],
   "source": [
    "criterion = nn.CrossEntropyLoss()\n",
    "optimizer = optim.Adam(model.parameters(), lr=0.001)"
   ]
  },
  {
   "cell_type": "code",
   "execution_count": null,
   "metadata": {},
   "outputs": [],
   "source": [
    "from IPython.core.debugger import set_trace\n",
    "\n",
    "for epoch in range(EPOCHES):\n",
    "    print('*'*10)\n",
    "    print('Epoch: {}'.format(epoch))\n",
    "    tloss = 0.0\n",
    "    taccu = 0.0\n",
    "#     set_trace()\n",
    "    for i, data in enumerate(train_loader):\n",
    "        img, labels = data\n",
    "        x = Variable(img)\n",
    "        y = Variable(labels)\n",
    "        if torch.cuda.is_available():\n",
    "            x = x.cuda()\n",
    "            y = y.cuda()\n",
    "        outs = model(x)\n",
    "        loss = criterion(outs, y)\n",
    "        tloss += loss.data[0]\n",
    "        pred = torch.max(outs, -1)[1]\n",
    "        taccu += (pred == y).sum().data[0]\n",
    "        optimizer.zero_grad()\n",
    "        loss.backward()\n",
    "        optimizer.step()\n",
    "    print('Loss: {}'.format(tloss))\n",
    "    print('Accu: {}'.format(taccu/len(train_data)))"
   ]
  },
  {
   "cell_type": "code",
   "execution_count": null,
   "metadata": {},
   "outputs": [],
   "source": [
    "# Validation\n",
    "print('Validation:')\n",
    "model.eval()\n",
    "tloss = 0.0\n",
    "taccu = 0.0\n",
    "for i, data in enumerate(test_loader):\n",
    "    img, label = data\n",
    "    x = Variable(img)\n",
    "    y = Variable(label)\n",
    "    outs = model(x)\n",
    "    pred = torch.max(outs, -1)[1]\n",
    "    loss = criterion(outs, y)\n",
    "    tloss += loss.data[0]\n",
    "    taccu += (pred == y).sum().data[0]\n",
    "print('Loss: {}'.format(tloss))\n",
    "print('Accu: {}'.format(taccu/len(test_data)))"
   ]
  },
  {
   "cell_type": "code",
   "execution_count": null,
   "metadata": {
    "collapsed": true
   },
   "outputs": [],
   "source": []
  }
 ],
 "metadata": {
  "kernelspec": {
   "display_name": "Python 3",
   "language": "python",
   "name": "python3"
  },
  "language_info": {
   "codemirror_mode": {
    "name": "ipython",
    "version": 3
   },
   "file_extension": ".py",
   "mimetype": "text/x-python",
   "name": "python",
   "nbconvert_exporter": "python",
   "pygments_lexer": "ipython3",
   "version": "3.5.2"
  }
 },
 "nbformat": 4,
 "nbformat_minor": 2
}
