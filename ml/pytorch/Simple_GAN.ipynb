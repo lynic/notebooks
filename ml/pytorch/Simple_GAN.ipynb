{
 "cells": [
  {
   "cell_type": "code",
   "execution_count": null,
   "metadata": {
    "collapsed": true
   },
   "outputs": [],
   "source": [
    "import torch\n",
    "from torch import nn, optim\n",
    "from torch.autograd import Variable\n",
    "from torch.utils.data import DataLoader\n",
    "from torchvision import datasets\n",
    "from torchvision import transforms\n",
    "from torchvision.utils import make_grid\n",
    "\n",
    "from IPython.display import display, Image\n",
    "from IPython.core.debugger import set_trace\n",
    "import os\n"
   ]
  },
  {
   "cell_type": "code",
   "execution_count": null,
   "metadata": {
    "collapsed": true
   },
   "outputs": [],
   "source": [
    "DATA_PATH = '../datasets/MNIST/'\n",
    "EPOCHES = 10\n",
    "BATCH_SIZE = 64\n",
    "NOISE_DIM = 100"
   ]
  },
  {
   "cell_type": "code",
   "execution_count": null,
   "metadata": {
    "collapsed": true
   },
   "outputs": [],
   "source": [
    "DOWNLOAD = False\n",
    "if not os.path.exists(DATA_PATH):\n",
    "    DOWNLOAD = True\n",
    "\n",
    "trans = transforms.Compose([\n",
    "    transforms.ToTensor(),\n",
    "    transforms.Normalize([0.5, 0.5, 0.5], [0.5, 0.5, 0.5]),\n",
    "])    \n",
    "\n",
    "train_data = datasets.MNIST(root=DATA_PATH, train=True, transform=trans, download=DOWNLOAD)\n",
    "test_data = datasets.MNIST(root=DATA_PATH, train=False, transform=trans)\n",
    "\n",
    "train_loader = DataLoader(train_data, batch_size=BATCH_SIZE, shuffle=True)\n",
    "test_loader = DataLoader(test_data, batch_size=BATCH_SIZE, shuffle=False)\n",
    "\n",
    "# [1, 28, 28]"
   ]
  },
  {
   "cell_type": "code",
   "execution_count": null,
   "metadata": {
    "collapsed": true
   },
   "outputs": [],
   "source": [
    "class Discriminator(nn.Module):\n",
    "    def __init__(self):\n",
    "        super(Discriminator, self).__init__()\n",
    "        self.dis = nn.Sequential(\n",
    "            nn.Linear(1*28*28, 256),\n",
    "            nn.LeakyReLU(0.2),\n",
    "            nn.Linear(256, 256),\n",
    "            nn.LeakyReLU(0.2),\n",
    "            nn.Linear(256, 1),\n",
    "            nn.Sigmoid(),\n",
    "        )\n",
    "    def forward(self, x):\n",
    "        out = self.dis(x)\n",
    "        return out\n",
    "\n",
    "class Generator(nn.Module):\n",
    "    def __init__(self, input_size=100):\n",
    "        super(Generator, self).__init__()\n",
    "        self.gen = nn.Sequential(\n",
    "            nn.Linear(input_size, 256),\n",
    "            nn.ReLU(),\n",
    "            nn.Linear(256, 256),\n",
    "            nn.ReLU(),\n",
    "            nn.Linear(256, 1*28*28),\n",
    "            nn.Tanh()\n",
    "        )\n",
    "    def forward(self, x):\n",
    "        out = self.gen(x)\n",
    "        return out\n",
    "\n",
    "d_model = Discriminator()\n",
    "g_model = Generator(NOISE_DIM)\n",
    "if torch.cuda.is_available():\n",
    "    d_model = d_model.cuda()\n",
    "    g_model = g_model.cuda()"
   ]
  },
  {
   "cell_type": "code",
   "execution_count": null,
   "metadata": {
    "collapsed": true
   },
   "outputs": [],
   "source": [
    "criterion = nn.BCELoss()\n",
    "d_optim = optim.Adam(d_model.parameters(), lr=0.0003)\n",
    "g_optim = optim.Adam(g_model.parameters(), lr=0.0003)"
   ]
  },
  {
   "cell_type": "code",
   "execution_count": null,
   "metadata": {
    "collapsed": true
   },
   "outputs": [],
   "source": [
    "def check_generator():\n",
    "    def to_img(x):\n",
    "        out = 0.5 * (x + 1)\n",
    "        out = out.clamp(0, 1)\n",
    "        out = out.view(-1, 1, 28, 28)\n",
    "        return out\n",
    "    trans = transforms.ToPILImage()\n",
    "    x_fake = Variable(torch.randn(64, NOISE_DIM))\n",
    "    if torch.cuda.is_available():\n",
    "        x_fake = x_fake.cuda()\n",
    "    fake_img = g_model(x_fake)\n",
    "    display(trans(make_grid(to_img(fake_img.cpu().data))))"
   ]
  },
  {
   "cell_type": "code",
   "execution_count": null,
   "metadata": {
    "scrolled": false
   },
   "outputs": [],
   "source": [
    "# Training\n",
    "for epoch in range(EPOCHES):\n",
    "    print('*'*10)\n",
    "    print('Epoch: {}'.format(epoch))\n",
    "    d_tloss = 0.0\n",
    "    g_tloss = 0.0\n",
    "    d_taccu = 0.0\n",
    "    for i, data in enumerate(train_loader):\n",
    "        img, labels = data\n",
    "        data_num = img.size(0)\n",
    "        img = img.view(data_num, -1)\n",
    "        \n",
    "        x_real = Variable(img)\n",
    "        x_fake = Variable(torch.randn(data_num, NOISE_DIM))\n",
    "        y_real = Variable(torch.ones(data_num))\n",
    "        y_fake = Variable(torch.zeros(data_num))\n",
    "        if torch.cuda.is_available():\n",
    "            x_real = x_real.cuda()\n",
    "            x_fake = x_fake.cuda()\n",
    "            y_real = y_real.cuda()\n",
    "            y_fake = y_fake.cuda()\n",
    "        \n",
    "        d_out_real = d_model(x_real)\n",
    "        d_loss_real = criterion(d_out_real, y_real)\n",
    "        g_out_fake = g_model(x_fake)\n",
    "        d_out_fake = d_model(g_out_fake.detach())\n",
    "        d_loss_fake = criterion(d_out_fake, y_fake)\n",
    "        d_loss = d_loss_real + d_loss_fake\n",
    "        d_tloss += d_loss.data[0]\n",
    "\n",
    "        d_optim.zero_grad()\n",
    "        d_loss.backward()\n",
    "        d_optim.step()\n",
    "\n",
    "        g_out_fake = g_model(x_fake)\n",
    "        d_out_fake = d_model(g_out_fake)\n",
    "        g_loss = criterion(d_out_fake, y_real)\n",
    "        g_tloss += g_loss.data[0]\n",
    "        g_optim.zero_grad()\n",
    "        g_loss.backward()\n",
    "        g_optim.step()\n",
    "    print('Generator_Loss: {}'.format(g_tloss))\n",
    "    print('Discrimitor_Loss: {}'.format(d_tloss))\n",
    "    check_generator()"
   ]
  },
  {
   "cell_type": "code",
   "execution_count": null,
   "metadata": {
    "collapsed": true
   },
   "outputs": [],
   "source": []
  }
 ],
 "metadata": {
  "kernelspec": {
   "display_name": "Python 3",
   "language": "python",
   "name": "python3"
  },
  "language_info": {
   "codemirror_mode": {
    "name": "ipython",
    "version": 3
   },
   "file_extension": ".py",
   "mimetype": "text/x-python",
   "name": "python",
   "nbconvert_exporter": "python",
   "pygments_lexer": "ipython3",
   "version": "3.5.2"
  }
 },
 "nbformat": 4,
 "nbformat_minor": 2
}
